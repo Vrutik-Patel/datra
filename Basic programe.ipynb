{
 "cells": [
  {
   "cell_type": "markdown",
   "metadata": {},
   "source": [
    "#  divisible by 7and multiple of 5, between 1500 and 2700"
   ]
  },
  {
   "cell_type": "code",
   "execution_count": 1,
   "metadata": {},
   "outputs": [
    {
     "name": "stdout",
     "output_type": "stream",
     "text": [
      "1505 , 1540 , 1575 , 1610 , 1645 , 1680 , 1715 , 1750 , 1785 , 1820 , 1855 , 1890 , 1925 , 1960 , 1995 , 2030 , 2065 , 2100 , 2135 , 2170 , 2205 , 2240 , 2275 , 2310 , 2345 , 2380 , 2415 , 2450 , 2485 , 2520 , 2555 , 2590 , 2625 , 2660 , 2695 , "
     ]
    }
   ],
   "source": [
    "for i in range ( 1500 , 2700 ) :\n",
    "    if ( i % 7 == 0 ) and ( i % 5 == 0 ) :\n",
    "        print ( i , end =\" , \")"
   ]
  },
  {
   "cell_type": "markdown",
   "metadata": {},
   "source": [
    "#  pattern, using nested for loop"
   ]
  },
  {
   "cell_type": "code",
   "execution_count": 1,
   "metadata": {},
   "outputs": [
    {
     "name": "stdout",
     "output_type": "stream",
     "text": [
      "enter the nember :5\n",
      " \n",
      "*  \n",
      "* *  \n",
      "* * *  \n",
      "* * * *  \n",
      "* * * * * \n",
      "* * * * \n",
      "* * * \n",
      "* * \n",
      "* \n"
     ]
    }
   ],
   "source": [
    "n = int(input(\"enter the nember :\"))\n",
    "for i in range (n) :\n",
    "    for j in range (i) :\n",
    "        print(\"* \",end=\"\")\n",
    "    print(\" \")\n",
    "for k in range (n,0,-1):\n",
    "    for l in range (k):\n",
    "        print(\"* \",end=\"\")\n",
    "    print(\"\")\n"
   ]
  },
  {
   "cell_type": "markdown",
   "metadata": {},
   "source": [
    "# accepts a word from user and reverse it(without using the reverse function)"
   ]
  },
  {
   "cell_type": "code",
   "execution_count": 6,
   "metadata": {},
   "outputs": [
    {
     "name": "stdout",
     "output_type": "stream",
     "text": [
      "Enter number: 789\n",
      "987\n"
     ]
    }
   ],
   "source": [
    "num = int(input(\"Enter number: \"))\n",
    "rev = 0\n",
    "while ( num>0 ) :\n",
    "    rem = num % 10\n",
    "    rev = (rev*10)+rem\n",
    "    num = num//10\n",
    "print(rev)\n"
   ]
  },
  {
   "cell_type": "markdown",
   "metadata": {},
   "source": [
    "#  check whether an alphabet is a vowel or consonant"
   ]
  },
  {
   "cell_type": "code",
   "execution_count": 2,
   "metadata": {},
   "outputs": [
    {
     "name": "stdout",
     "output_type": "stream",
     "text": [
      "enter the character :v\n",
      "enter character is consonant.\n"
     ]
    }
   ],
   "source": [
    "ch = input(\"enter the character :\")\n",
    "if((ch=='A')or(ch=='E')or(ch=='I')or(ch=='O')or(ch=='U')or (ch=='a')or(ch=='e')or(ch=='i')or(ch=='o')or(ch=='u')):\n",
    "    print (\"enter character is vowel.\")\n",
    "else :\n",
    "    print(\"enter character is consonant.\")"
   ]
  },
  {
   "cell_type": "markdown",
   "metadata": {},
   "source": [
    "# find reverse of given number using user defined function"
   ]
  },
  {
   "cell_type": "code",
   "execution_count": 6,
   "metadata": {},
   "outputs": [
    {
     "name": "stdout",
     "output_type": "stream",
     "text": [
      "enetr the number for reverse :56\n",
      "65\n"
     ]
    }
   ],
   "source": [
    "def reverse(N):\n",
    "    rev = 0\n",
    "    while(N>0):\n",
    "        rem = N%10\n",
    "        rev=(rev*10)+rem\n",
    "        N=N//10\n",
    "    print(rev)\n",
    "N = int(input(\"enetr the number for reverse :\"))\n",
    "rev = reverse(N)"
   ]
  },
  {
   "cell_type": "markdown",
   "metadata": {},
   "source": [
    "# check whether the given no is Armstrong or not using user defined"
   ]
  },
  {
   "cell_type": "code",
   "execution_count": 10,
   "metadata": {},
   "outputs": [
    {
     "name": "stdout",
     "output_type": "stream",
     "text": [
      "Enter a number: 153\n",
      "153 is an Armstrong number\n"
     ]
    }
   ],
   "source": [
    "num = int(input(\"Enter a number: \"))\n",
    "sum = 0\n",
    "temp = num\n",
    "while temp > 0:\n",
    "          digit = temp % 10\n",
    "          sum += digit ** 3\n",
    "          temp //= 10\n",
    "if num == sum:\n",
    "          print(num,\"is an Armstrong number\")\n",
    "else:\n",
    "          print(num,\"is not an Armstrong number\")"
   ]
  },
  {
   "cell_type": "markdown",
   "metadata": {},
   "source": [
    "# find first n prime numbers."
   ]
  },
  {
   "cell_type": "code",
   "execution_count": 8,
   "metadata": {},
   "outputs": [
    {
     "name": "stdout",
     "output_type": "stream",
     "text": [
      "Enter m :20\n",
      "prime numbers are:\n",
      "2\n",
      "3\n",
      "5\n",
      "7\n",
      "11\n",
      "13\n",
      "17\n",
      "19\n"
     ]
    }
   ],
   "source": [
    "m = int(input(\"Enter m :\"))\n",
    "print (\"prime numbers are:\")\n",
    "for num in range (1,m):\n",
    "    if num>1:\n",
    "        for i in range(2,num):\n",
    "            if(num%i==0):\n",
    "                break\n",
    "        else:\n",
    "            print(num)"
   ]
  },
  {
   "cell_type": "markdown",
   "metadata": {},
   "source": [
    "#  Fibonacci series upto n terms"
   ]
  },
  {
   "cell_type": "code",
   "execution_count": 3,
   "metadata": {},
   "outputs": [
    {
     "name": "stdout",
     "output_type": "stream",
     "text": [
      "Enter value :6\n",
      "0\n",
      "1\n",
      "1\n",
      "2\n",
      "3\n",
      "5\n",
      "8\n"
     ]
    }
   ],
   "source": [
    "def fibo(n):\n",
    "    a,b = 0,1\n",
    "    print(a)\n",
    "    print(b)\n",
    "    for i in range(1,n):\n",
    "          c = a + b\n",
    "          a,b = b,c\n",
    "          print(c)\n",
    "n = int(input(\"Enter value :\"))\n",
    "fibo(n)"
   ]
  },
  {
   "cell_type": "markdown",
   "metadata": {},
   "source": [
    "# slicing"
   ]
  },
  {
   "cell_type": "code",
   "execution_count": 4,
   "metadata": {},
   "outputs": [
    {
     "name": "stdout",
     "output_type": "stream",
     "text": [
      " University\n",
      "Uiest\n"
     ]
    }
   ],
   "source": [
    "myStr = \"GTU is the best University\"\n",
    "print(myStr[15::1])\n",
    "print(myStr[-10:-1:2])\n"
   ]
  },
  {
   "cell_type": "code",
   "execution_count": 5,
   "metadata": {},
   "outputs": [
    {
     "name": "stdout",
     "output_type": "stream",
     "text": [
      "(4,)\n",
      "(1, 2, 3, (4,), [7, 6])\n"
     ]
    }
   ],
   "source": [
    "t = (1,2,3,(4,),[5,6])\n",
    "print(t[3])\n",
    "t[4][0] = 7\n",
    "print(t)"
   ]
  },
  {
   "cell_type": "code",
   "execution_count": 6,
   "metadata": {},
   "outputs": [
    {
     "name": "stdout",
     "output_type": "stream",
     "text": [
      "[(1, 3), (1, 4), (2, 3), (2, 1), (2, 4), (3, 1), (3, 4)]\n"
     ]
    }
   ],
   "source": [
    "I = [(x,y) for x in [1,2,3] for y in [3,1,4] if x!= y]\n",
    "print(I)"
   ]
  },
  {
   "cell_type": "code",
   "execution_count": 7,
   "metadata": {},
   "outputs": [
    {
     "name": "stdout",
     "output_type": "stream",
     "text": [
      "Slice of String: his\n",
      "Slice of String: Ti sPto\n"
     ]
    }
   ],
   "source": [
    "str1 = \"This is Python\"\n",
    "print(\"Slice of String:\",str1[1:4:1])\n",
    "print(\"Slice of String:\",str1[0:-1:2])"
   ]
  },
  {
   "cell_type": "markdown",
   "metadata": {},
   "source": [
    "# maximum from a list of numbers."
   ]
  },
  {
   "cell_type": "code",
   "execution_count": null,
   "metadata": {},
   "outputs": [],
   "source": []
  },
  {
   "cell_type": "code",
   "execution_count": 2,
   "metadata": {},
   "outputs": [
    {
     "name": "stdout",
     "output_type": "stream",
     "text": [
      "Enter number of elements in list: 4\n",
      "Enter elements:98\n",
      "Enter elements:5\n",
      "Enter elements:6\n",
      "Enter elements:7\n",
      "Largest element is: 98\n"
     ]
    }
   ],
   "source": [
    "list1 = [] \n",
    "num = int(input(\"Enter number of elements in list: \")) \n",
    "for i in range(1, num + 1):\n",
    "    ele = int(input(\"Enter elements:\"))\n",
    "    list1.append(ele)\n",
    "print(\"Largest element is:\", max(list1))"
   ]
  },
  {
   "cell_type": "markdown",
   "metadata": {},
   "source": [
    "# Programe"
   ]
  },
  {
   "cell_type": "code",
   "execution_count": 1,
   "metadata": {},
   "outputs": [
    {
     "name": "stdout",
     "output_type": "stream",
     "text": [
      "summation : 6\n",
      "summation : 4\n"
     ]
    }
   ],
   "source": [
    "def sum13(nums):\n",
    "    count = 0\n",
    "    while count < len(nums):\n",
    "        if nums[count] == 13:\n",
    "            del nums[count:count+2]\n",
    "        count += 1\n",
    "    return sum(nums)\n",
    "\n",
    "print(\"summation :\",sum13(([1, 2, 2, 1, 13]))) \n",
    "print(\"summation :\",sum13(([1, 2, 13, 2, 1, 13]))) "
   ]
  },
  {
   "cell_type": "markdown",
   "metadata": {},
   "source": [
    "# a program to convert a list of characters into a string"
   ]
  },
  {
   "cell_type": "code",
   "execution_count": 9,
   "metadata": {},
   "outputs": [
    {
     "name": "stdout",
     "output_type": "stream",
     "text": [
      "Vrutik\n"
     ]
    }
   ],
   "source": [
    "def convert(s):\n",
    "    str1 = \"\"\n",
    "    return(str1.join(s))    \n",
    "s = ['V', 'r', 'u', 't', 'i', 'k'] \n",
    "print(convert(s))"
   ]
  },
  {
   "cell_type": "markdown",
   "metadata": {},
   "source": [
    "# print numbers given in the list after removing even numbers from it"
   ]
  },
  {
   "cell_type": "code",
   "execution_count": 4,
   "metadata": {},
   "outputs": [
    {
     "name": "stdout",
     "output_type": "stream",
     "text": [
      "Original list:\n",
      "[11, 22, 33, 44, 55]\n",
      "list after removing EVEN numbers:\n",
      "[11, 33, 55]\n"
     ]
    }
   ],
   "source": [
    "list = [11, 22, 33, 44, 55]\n",
    "print (\"Original list:\")\n",
    "print (list)\n",
    "for i  in list:\n",
    "    if(i%2 == 0):\n",
    "        list.remove(i)\n",
    "print (\"list after removing EVEN numbers:\")\n",
    "print (list)"
   ]
  },
  {
   "cell_type": "markdown",
   "metadata": {},
   "source": [
    "# Print square of number"
   ]
  },
  {
   "cell_type": "code",
   "execution_count": 6,
   "metadata": {},
   "outputs": [
    {
     "name": "stdout",
     "output_type": "stream",
     "text": [
      "[1, 4, 9, 16, 25]\n"
     ]
    }
   ],
   "source": [
    "def printf():\n",
    "    l = []\n",
    "    for i in range(1,30):\n",
    "        l.append(i**2)\n",
    "    print(l[:5])\n",
    "    #print(l[:])\n",
    "printf()"
   ]
  },
  {
   "cell_type": "code",
   "execution_count": 15,
   "metadata": {},
   "outputs": [
    {
     "name": "stdout",
     "output_type": "stream",
     "text": [
      "first five number : [1, 4, 9, 16, 25]\n",
      "last five number : [625, 676, 729, 784, 841]\n"
     ]
    }
   ],
   "source": [
    "def printf():\n",
    "    l = []\n",
    "    for i in range(1,30):\n",
    "        l.append(i**2)\n",
    "    print(\"first five number :\",l[:5]) \n",
    "    print(\"last five number :\",l[-5:])\n",
    "printf()"
   ]
  },
  {
   "cell_type": "markdown",
   "metadata": {},
   "source": [
    "# sort a dictionary by value"
   ]
  },
  {
   "cell_type": "code",
   "execution_count": 12,
   "metadata": {},
   "outputs": [
    {
     "name": "stdout",
     "output_type": "stream",
     "text": [
      "['Akash', 'Rushi', 'Samir', 'Vrutik']\n"
     ]
    }
   ],
   "source": [
    "dic = ['Vrutik', 'Samir', 'Akash',  'Rushi']\n",
    "sorted_dic = sorted(dic)\n",
    "print(sorted_dics)"
   ]
  },
  {
   "cell_type": "markdown",
   "metadata": {},
   "source": [
    "# count the numbers of characters in the string and store them in a dictionary data structure"
   ]
  },
  {
   "cell_type": "code",
   "execution_count": 16,
   "metadata": {},
   "outputs": [
    {
     "name": "stdout",
     "output_type": "stream",
     "text": [
      "Enter your string :vrutik trupal aakash \n",
      "21\n"
     ]
    }
   ],
   "source": [
    "str = input(\"Enter your string :\")\n",
    "tot = 0\n",
    "for i in str:\n",
    "    tot = tot+1\n",
    "    \n",
    "print(tot)\n"
   ]
  },
  {
   "cell_type": "markdown",
   "metadata": {},
   "source": [
    "# shift left"
   ]
  },
  {
   "cell_type": "code",
   "execution_count": 5,
   "metadata": {},
   "outputs": [
    {
     "name": "stdout",
     "output_type": "stream",
     "text": [
      "Enter total elemn=ent total element in list5\n",
      "Element are: \n",
      "11\n",
      "12\n",
      "13\n",
      "14\n",
      "15\n",
      "list is [11, 12, 13, 14, 15]\n",
      "left shifted new list is [12, 13, 14, 15, 11]\n"
     ]
    }
   ],
   "source": [
    "n = int(input(\"Enter total elemn=ent total element in list\"))\n",
    "list = []\n",
    "print(\"Element are: \")\n",
    "for i in range (0,n):\n",
    "    num = int(input())\n",
    "    list.append(num)\n",
    "print(\"list is\",list)\n",
    "new_list = []\n",
    "for i in list :\n",
    "    new_list.insert(len(new_list)-1,i)\n",
    "print(\"left shifted new list is\",new_list)"
   ]
  },
  {
   "cell_type": "markdown",
   "metadata": {},
   "source": [
    "# count the numbers of characters in the string and store them in a dictionary data structure"
   ]
  },
  {
   "cell_type": "code",
   "execution_count": 4,
   "metadata": {},
   "outputs": [
    {
     "name": "stdout",
     "output_type": "stream",
     "text": [
      "Enter String: vrutik\n",
      "Dictionary is:\n",
      " {'v': 1, 'r': 1, 'u': 1, 't': 1, 'i': 1, 'k': 1}\n"
     ]
    }
   ],
   "source": [
    "str1=input(\"Enter String: \")\n",
    "dict1={}\n",
    "for ch in str1:\n",
    "    keys=dict1.keys()\n",
    "    if(ch in keys):\n",
    "        dict1[ch]=dict1[ch]+1\n",
    "    else:\n",
    "        dict1[ch]=1\n",
    "print(\"Dictionary is:\\n\",dict1)\n"
   ]
  },
  {
   "cell_type": "markdown",
   "metadata": {},
   "source": [
    "# use split and join methods in the string and trace a birthday with a dictionary data structure"
   ]
  },
  {
   "cell_type": "code",
   "execution_count": 5,
   "metadata": {},
   "outputs": [
    {
     "name": "stdout",
     "output_type": "stream",
     "text": [
      "Enter birthday:\n",
      "16/10/2000\n",
      "16-10-2000\n"
     ]
    }
   ],
   "source": [
    "st=input(\"Enter birthday:\\n\")\n",
    "li=st.split(\"/\")\n",
    "bday='-'.join(li)\n",
    "di={\"birthday\":bday}\n",
    "if 'birthday' in di:\n",
    "    print(di['birthday'])"
   ]
  },
  {
   "cell_type": "code",
   "execution_count": null,
   "metadata": {},
   "outputs": [],
   "source": []
  }
 ],
 "metadata": {
  "kernelspec": {
   "display_name": "Python 3",
   "language": "python",
   "name": "python3"
  },
  "language_info": {
   "codemirror_mode": {
    "name": "ipython",
    "version": 3
   },
   "file_extension": ".py",
   "mimetype": "text/x-python",
   "name": "python",
   "nbconvert_exporter": "python",
   "pygments_lexer": "ipython3",
   "version": "3.7.6"
  }
 },
 "nbformat": 4,
 "nbformat_minor": 4
}
